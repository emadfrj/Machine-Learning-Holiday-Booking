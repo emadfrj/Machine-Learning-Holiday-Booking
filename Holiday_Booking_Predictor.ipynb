{
  "cells": [
    {
      "cell_type": "markdown",
      "metadata": {
        "id": "view-in-github",
        "colab_type": "text"
      },
      "source": [
        "<a href=\"https://colab.research.google.com/github/emadfrj/Machine-Learning-Holiday-Booking/blob/main/Holiday_Booking_Predictor.ipynb\" target=\"_parent\"><img src=\"https://colab.research.google.com/assets/colab-badge.svg\" alt=\"Open In Colab\"/></a>"
      ]
    },
    {
      "cell_type": "markdown",
      "metadata": {
        "id": "vb-E3IZ8MEu-"
      },
      "source": [
        "# Holiday Booking\n",
        "This code employs machine learning to classify the flight booking dataset associated with British Airways. The goal is to develop a model that predicts whether a customer will book a holiday with British Airways.\n",
        "First, Random Forest is used for calculating feature importance scores. Then variables with less impact on booking is removed from dataset. Finally, both random forest and neural network is used for prediction and the accuracy of them is compared."
      ]
    },
    {
      "cell_type": "markdown",
      "metadata": {
        "id": "q_4IwXokMEvD"
      },
      "source": [
        "## Read dataset\n",
        "Read dataset from github"
      ]
    },
    {
      "cell_type": "code",
      "execution_count": null,
      "metadata": {
        "id": "5QkHyhcOMEvE"
      },
      "outputs": [],
      "source": [
        "import pandas as pd\n",
        "# Load the dataset CSV file from github\n",
        "file_path = 'https://raw.githubusercontent.com/emadfrj/Databases/main/customer_booking.csv'\n",
        "df_raw = pd.read_csv(file_path, encoding='latin-1')"
      ]
    },
    {
      "cell_type": "markdown",
      "metadata": {
        "id": "9REmkMnhMEvG"
      },
      "source": [
        "## Clean Data\n",
        "A function to perform one-hot encoding while limiting the number of generated columns for categorical variables with high variability."
      ]
    },
    {
      "cell_type": "code",
      "source": [
        "import pandas as pd\n",
        "\n",
        "def efficientOneHotencoding(df, varName, minColumns=10, maxColumns=100, cutPercent=0.1, OtherColumnName = 'Other'):\n",
        "    \"\"\"\n",
        "    Applies one-hot encoding to a DataFrame column while merging infrequent\n",
        "    categories into a unified group labeled as 'varName_Other'.\n",
        "    Finally, Frequency Encoding will be applied on 'varName_Other' column.\n",
        "\n",
        "    Parameters:\n",
        "    df (DataFrame): The DataFrame containing the data to be encoded.\n",
        "    varName (str): The name of the column to be encoded.\n",
        "    minColumns (int): If the number of distinct values is less than this, one-hot encoding will be applied to all the distinct values.\n",
        "    maxColumns (int): The maximum number of distinct values to consider for one-hot encoding.\n",
        "    cutPercent (float): The percentage of the mean frequency used as a threshold to determine if a value should be categorized as 'Other'.\n",
        "\n",
        "    Returns:\n",
        "    DataFrame: The DataFrame with one-hot encoded columns.\n",
        "    \"\"\"\n",
        "\n",
        "    # Calculate the number of distinct values in the column\n",
        "    distinctValues = len(df[varName].unique())\n",
        "\n",
        "    # If there are fewer unique values than the minimum threshold, apply one-hot encoding directly\n",
        "    if distinctValues <= minColumns:\n",
        "        return pd.get_dummies(df, columns=[varName], drop_first=True)\n",
        "\n",
        "    # Calculate the frequency of each value and determine the threshold for 'Other' categorization\n",
        "    counts_per_group = (df.groupby(varName).size() / len(df)).sort_values(ascending=False)\n",
        "    # This column is used for making the 'Other_varName_encoded' column Frequency Encoding\n",
        "    df['Frequency_'+varName] = df[varName].map(counts_per_group)\n",
        "    # Compute the mean frequency of the top `minColumns - 1` most frequent values in the column.\n",
        "    # This average frequency serves as a reference point for determining the threshold below which categories will be grouped as 'Other'.\n",
        "    highFrequencyMean = counts_per_group[1:minColumns].mean()\n",
        "    thresholdFrequency = highFrequencyMean * cutPercent\n",
        "\n",
        "\n",
        "    # Determine the rank at which values are categorized  as 'Other'\n",
        "    rankFrequency = minColumns\n",
        "    for rankFrequency in range(minColumns, min(maxColumns+1, distinctValues)):\n",
        "        if counts_per_group[rankFrequency] < thresholdFrequency:\n",
        "            break\n",
        "\n",
        "    # Map values to their corresponding categories including 'Other'\n",
        "    # Map each value to it self\n",
        "    map_values = dict(zip(counts_per_group.index[:rankFrequency], counts_per_group.index[:rankFrequency]))\n",
        "    # Map each value to 'varName_Other'\n",
        "    map_values.update({key: OtherColumnName for key in counts_per_group.index[rankFrequency:]})\n",
        "    df[varName] = df[varName].map(map_values)\n",
        "    # Perform one-hot encoding on the modified column\n",
        "    encoded_df = pd.get_dummies(df, columns=[varName], drop_first=True)\n",
        "    # Apply Frequency Encoding on 'varName_Other' column\n",
        "    encoded_df[varName +'_'+OtherColumnName] = encoded_df['Frequency_'+varName] * encoded_df[varName +'_'+OtherColumnName]\n",
        "    # drop frequency column\n",
        "    encoded_df.drop('Frequency_'+varName, axis=1, inplace=True)\n",
        "    return encoded_df\n"
      ],
      "metadata": {
        "id": "Db7gjJ-Jy_-h"
      },
      "execution_count": null,
      "outputs": []
    },
    {
      "cell_type": "markdown",
      "source": [
        "Turn category variables into numerical classes.\n",
        "Perform one-hot encoding and binary encoding"
      ],
      "metadata": {
        "id": "6t9TN4596Loo"
      }
    },
    {
      "cell_type": "code",
      "source": [
        "from sklearn.preprocessing import LabelEncoder\n",
        "# make a copy of the dataset\n",
        "df = df_raw.copy()\n",
        "# Lable encoding(Binary)\n",
        "label_encoder = LabelEncoder()\n",
        "df['sales_channel'] = label_encoder.fit_transform(df['sales_channel'])\n",
        "# One-hot-encoding\n",
        "df = pd.get_dummies(df, columns=['sales_channel'], drop_first=True)\n",
        "df = pd.get_dummies(df, columns=['trip_type'], drop_first=True)\n",
        "df = pd.get_dummies(df, columns=['flight_day'], drop_first=True)\n",
        "# One-hot-encoding. Limiting the number of columns created\n",
        "df = efficientOneHotencoding(df,'route',20,1000,0.2)\n",
        "df = efficientOneHotencoding(df,'booking_origin',20,1000,0.1)"
      ],
      "metadata": {
        "id": "Q4mj0y4n6YqJ"
      },
      "execution_count": null,
      "outputs": []
    },
    {
      "cell_type": "markdown",
      "source": [
        "Check the final number of columns after encoding"
      ],
      "metadata": {
        "id": "O0a2k0-gYoTs"
      }
    },
    {
      "cell_type": "code",
      "source": [
        "len(df.columns)"
      ],
      "metadata": {
        "id": "Este0SQerMnl",
        "colab": {
          "base_uri": "https://localhost:8080/"
        },
        "outputId": "943ba1af-ef9c-40a9-e3b1-54f56b9060a8"
      },
      "execution_count": null,
      "outputs": [
        {
          "output_type": "execute_result",
          "data": {
            "text/plain": [
              "138"
            ]
          },
          "metadata": {},
          "execution_count": 121
        }
      ]
    },
    {
      "cell_type": "markdown",
      "source": [
        "## Split dataset to train and test"
      ],
      "metadata": {
        "id": "QE63B0cpZFRL"
      }
    },
    {
      "cell_type": "code",
      "execution_count": null,
      "metadata": {
        "id": "QvR9vK8yMEvI"
      },
      "outputs": [],
      "source": [
        "from sklearn.model_selection import train_test_split\n",
        "\n",
        "# Assume 'target_column' is the column you want to predict\n",
        "X = df.drop('booking_complete', axis=1)  # Input variable\n",
        "Y = df['booking_complete']  # Target variable\n",
        "\n",
        "# Split the dataset into training and testing sets\n",
        "X_train, X_test, Y_train, Y_test = train_test_split(X, Y, test_size=0.2, random_state=35)"
      ]
    },
    {
      "cell_type": "markdown",
      "source": [
        "## Oversampling for completed booking\n",
        "Due to the relatively low number of completed booking entries compared to those not booked, some of the data for completed bookings are replicated."
      ],
      "metadata": {
        "id": "AI-XdQiAIMg3"
      }
    },
    {
      "cell_type": "code",
      "source": [
        "from imblearn.over_sampling import RandomOverSampler\n",
        "# Perform oversampling on the training data\n",
        "oversampler = RandomOverSampler(random_state=42)\n",
        "X_train_oversampled, Y_train_oversampled = oversampler.fit_resample(X_train, Y_train)\n",
        "\n",
        "print((Y_train_oversampled == 1).sum() /Y_train_oversampled.count())"
      ],
      "metadata": {
        "id": "zOO5SxDZQo7N",
        "colab": {
          "base_uri": "https://localhost:8080/"
        },
        "outputId": "13969491-6639-4634-9dc4-aa0b883b88cb"
      },
      "execution_count": null,
      "outputs": [
        {
          "output_type": "stream",
          "name": "stdout",
          "text": [
            "0.5\n"
          ]
        }
      ]
    },
    {
      "cell_type": "markdown",
      "source": [
        "## Scalling the inputs"
      ],
      "metadata": {
        "id": "JzLY6bFcNdtP"
      }
    },
    {
      "cell_type": "code",
      "source": [
        "from sklearn.preprocessing import StandardScaler\n",
        "scaler = StandardScaler()\n",
        "X_train_scaled = scaler.fit_transform(X_train_oversampled)\n",
        "X_test_scaled = scaler.transform(X_test)\n",
        "Y_train_scaled = Y_train_oversampled   #it is already scaled"
      ],
      "metadata": {
        "id": "8P0tuIRMAibZ"
      },
      "execution_count": null,
      "outputs": []
    },
    {
      "cell_type": "markdown",
      "source": [
        "## Random Forest"
      ],
      "metadata": {
        "id": "9CmsDFLCNj8u"
      }
    },
    {
      "cell_type": "code",
      "execution_count": null,
      "metadata": {
        "id": "vvIRUwEwMEvJ",
        "outputId": "10d4fc62-645d-4107-ed10-81c73d552ca6",
        "colab": {
          "base_uri": "https://localhost:8080/"
        }
      },
      "outputs": [
        {
          "output_type": "stream",
          "name": "stdout",
          "text": [
            "Accuracy: 0.84\n",
            "\n",
            "Classification Report:\n",
            "              precision    recall  f1-score   support\n",
            "\n",
            "           0       0.87      0.95      0.91      8472\n",
            "           1       0.45      0.24      0.32      1528\n",
            "\n",
            "    accuracy                           0.84     10000\n",
            "   macro avg       0.66      0.60      0.61     10000\n",
            "weighted avg       0.81      0.84      0.82     10000\n",
            "\n"
          ]
        }
      ],
      "source": [
        "from sklearn.ensemble import RandomForestClassifier\n",
        "from sklearn.metrics import accuracy_score, classification_report\n",
        "\n",
        "# Create and train the Random Forest model\n",
        "random_forest_model = RandomForestClassifier(n_estimators=100, random_state=35)\n",
        "random_forest_model.fit(X_train_scaled, Y_train_scaled)\n",
        "\n",
        "# Make predictions on the test set\n",
        "Y_pred = random_forest_model.predict(X_test_scaled)\n",
        "\n",
        "# Evaluate the model\n",
        "accuracy = accuracy_score(Y_test, Y_pred)\n",
        "print(f\"Accuracy: {accuracy:.2f}\")\n",
        "\n",
        "# Display additional metrics\n",
        "print(\"\\nClassification Report:\")\n",
        "print(classification_report(Y_test, Y_pred))"
      ]
    },
    {
      "cell_type": "markdown",
      "source": [
        "## Feature Importance"
      ],
      "metadata": {
        "id": "ghrS5eEcUz4v"
      }
    },
    {
      "cell_type": "code",
      "source": [
        "# Extract feature importances\n",
        "feature_importances = random_forest_model.feature_importances_\n",
        "\n",
        "# Create a list of tuples containing feature and importance\n",
        "feature_importance_tuples = list(zip(X_train.columns, feature_importances))\n",
        "\n",
        "# Sort the list of tuples by importance in descending order\n",
        "sorted_feature_importance = sorted(feature_importance_tuples, key=lambda x: x[1], reverse=True)\n",
        "\n",
        "# Print the sorted features\n",
        "print(\"Feature Importances:\")\n",
        "for feature, importance in sorted_feature_importance:\n",
        "    print(f\"{feature}: {importance}\")"
      ],
      "metadata": {
        "id": "ZJGzTttXUyxa"
      },
      "execution_count": null,
      "outputs": []
    },
    {
      "cell_type": "markdown",
      "source": [
        "Plot feature importance to find the best threshold to disregard low influential variables."
      ],
      "metadata": {
        "id": "QFxtjhKia-x-"
      }
    },
    {
      "cell_type": "code",
      "source": [
        "import matplotlib.pyplot as plt\n",
        "\n",
        "numbers = [x[1] for x in sorted_feature_importance]\n",
        "\n",
        "# Create a scatter plot\n",
        "plt.scatter(range(len(numbers)), numbers)\n",
        "plt.xlabel('Index')\n",
        "plt.ylabel('Value')\n",
        "plt.title('Scatter Plot of Numbers')\n",
        "\n",
        "# Customize gridlines\n",
        "plt.grid(True, which='both', linestyle='-', linewidth=0.5)  # Show both major and minor gridlines\n",
        "plt.minorticks_on()  # Enable minor ticks\n",
        "\n",
        "plt.show()\n",
        "\n"
      ],
      "metadata": {
        "colab": {
          "base_uri": "https://localhost:8080/",
          "height": 472
        },
        "id": "vjt8u0ORa-Ac",
        "outputId": "73cd9c3a-bc58-4c36-c7bb-b9603ac21479"
      },
      "execution_count": null,
      "outputs": [
        {
          "output_type": "display_data",
          "data": {
            "text/plain": [
              "<Figure size 640x480 with 1 Axes>"
            ],
            "image/png": "[encoded data removed]"
          },
          "metadata": {}
        }
      ]
    },
    {
      "cell_type": "markdown",
      "source": [
        "## Feature Extraction\n",
        "Remove variables with less than 0.01 importance coefficient"
      ],
      "metadata": {
        "id": "3aYp1I02Vm_F"
      }
    },
    {
      "cell_type": "code",
      "source": [
        "from sklearn.feature_selection import SelectFromModel\n",
        "\n",
        "# Select features based on importance\n",
        "sfm = SelectFromModel(random_forest_model, threshold=0.01)\n",
        "sfm.fit(X_train_scaled, Y_train_scaled)\n",
        "X_train_selected = sfm.transform(X_train_scaled)\n",
        "X_test_selected = sfm.transform(X_test_scaled)"
      ],
      "metadata": {
        "id": "Auk5b8CDVqmJ"
      },
      "execution_count": null,
      "outputs": []
    },
    {
      "cell_type": "markdown",
      "source": [
        "## Second Random Forest"
      ],
      "metadata": {
        "id": "pzuJ_9N0adyF"
      }
    },
    {
      "cell_type": "code",
      "source": [
        "# Train the model on the selected features\n",
        "random_forest_model_selected = RandomForestClassifier(n_estimators=100, random_state=35)\n",
        "random_forest_model_selected.fit(X_train_selected, Y_train_scaled)\n",
        "\n",
        "# Make predictions on the test set\n",
        "Y_pred_selected = random_forest_model_selected.predict(X_test_selected)\n",
        "\n",
        "# Evaluate the model with selected features\n",
        "accuracy_selected = accuracy_score(Y_test, Y_pred_selected)\n",
        "print(f\"\\nAccuracy with selected features: {accuracy_selected:.2f}\")\n",
        "\n",
        "# Display additional metrics with selected features\n",
        "print(\"\\nClassification Report with selected features:\")\n",
        "print(classification_report(Y_test, Y_pred_selected))"
      ],
      "metadata": {
        "colab": {
          "base_uri": "https://localhost:8080/"
        },
        "id": "4ba9HiP1acFD",
        "outputId": "cf57dae9-6cff-4c07-9abb-d405e772bd03"
      },
      "execution_count": null,
      "outputs": [
        {
          "output_type": "stream",
          "name": "stdout",
          "text": [
            "\n",
            "Accuracy with selected features: 0.84\n",
            "\n",
            "Classification Report with selected features:\n",
            "              precision    recall  f1-score   support\n",
            "\n",
            "           0       0.87      0.95      0.91      8472\n",
            "           1       0.44      0.21      0.28      1528\n",
            "\n",
            "    accuracy                           0.84     10000\n",
            "   macro avg       0.66      0.58      0.60     10000\n",
            "weighted avg       0.80      0.84      0.81     10000\n",
            "\n"
          ]
        }
      ]
    },
    {
      "cell_type": "markdown",
      "metadata": {
        "id": "UXz_re0_MEvK"
      },
      "source": [
        "## Neural Network"
      ]
    },
    {
      "cell_type": "code",
      "execution_count": null,
      "metadata": {
        "id": "WKXBfxilMEvL",
        "colab": {
          "base_uri": "https://localhost:8080/"
        },
        "outputId": "58a79aa9-b2c2-4f90-c744-05ff701c0201"
      },
      "outputs": [
        {
          "output_type": "stream",
          "name": "stdout",
          "text": [
            "Epoch 1/20\n",
            "2129/2129 [==============================] - 6s 2ms/step - loss: 0.6293 - accuracy: 0.6490\n",
            "Epoch 2/20\n",
            "2129/2129 [==============================] - 6s 3ms/step - loss: 0.6142 - accuracy: 0.6656\n",
            "Epoch 3/20\n",
            "2129/2129 [==============================] - 5s 2ms/step - loss: 0.6101 - accuracy: 0.6706\n",
            "Epoch 4/20\n",
            "2129/2129 [==============================] - 5s 2ms/step - loss: 0.6072 - accuracy: 0.6715\n",
            "Epoch 5/20\n",
            "2129/2129 [==============================] - 5s 2ms/step - loss: 0.6046 - accuracy: 0.6728\n",
            "Epoch 6/20\n",
            "2129/2129 [==============================] - 5s 2ms/step - loss: 0.6026 - accuracy: 0.6752\n",
            "Epoch 7/20\n",
            "2129/2129 [==============================] - 6s 3ms/step - loss: 0.6012 - accuracy: 0.6747\n",
            "Epoch 8/20\n",
            "2129/2129 [==============================] - 5s 2ms/step - loss: 0.6005 - accuracy: 0.6751\n",
            "Epoch 9/20\n",
            "2129/2129 [==============================] - 6s 3ms/step - loss: 0.5991 - accuracy: 0.6769\n",
            "Epoch 10/20\n",
            "2129/2129 [==============================] - 5s 2ms/step - loss: 0.5984 - accuracy: 0.6761\n",
            "Epoch 11/20\n",
            "2129/2129 [==============================] - 6s 3ms/step - loss: 0.5968 - accuracy: 0.6789\n",
            "Epoch 12/20\n",
            "2129/2129 [==============================] - 6s 3ms/step - loss: 0.5959 - accuracy: 0.6776\n",
            "Epoch 13/20\n",
            "2129/2129 [==============================] - 5s 2ms/step - loss: 0.5946 - accuracy: 0.6803\n",
            "Epoch 14/20\n",
            "2129/2129 [==============================] - 6s 3ms/step - loss: 0.5937 - accuracy: 0.6792\n",
            "Epoch 15/20\n",
            "2129/2129 [==============================] - 5s 2ms/step - loss: 0.5923 - accuracy: 0.6820\n",
            "Epoch 16/20\n",
            "2129/2129 [==============================] - 6s 3ms/step - loss: 0.5918 - accuracy: 0.6810\n",
            "Epoch 17/20\n",
            "2129/2129 [==============================] - 5s 2ms/step - loss: 0.5903 - accuracy: 0.6820\n",
            "Epoch 18/20\n",
            "2129/2129 [==============================] - 7s 3ms/step - loss: 0.5914 - accuracy: 0.6815\n",
            "Epoch 19/20\n",
            "2129/2129 [==============================] - 5s 2ms/step - loss: 0.5891 - accuracy: 0.6796\n",
            "Epoch 20/20\n",
            "2129/2129 [==============================] - 6s 3ms/step - loss: 0.5905 - accuracy: 0.6807\n",
            "313/313 [==============================] - 1s 2ms/step\n",
            "313/313 [==============================] - 1s 2ms/step - loss: 0.5916 - accuracy: 0.6578\n",
            "Test Accuracy: 0.657800018787384\n",
            "\n",
            "Classification Report:\n",
            "              precision    recall  f1-score   support\n",
            "\n",
            "           0       0.93      0.65      0.76      8472\n",
            "           1       0.27      0.71      0.39      1528\n",
            "\n",
            "    accuracy                           0.66     10000\n",
            "   macro avg       0.60      0.68      0.58     10000\n",
            "weighted avg       0.83      0.66      0.71     10000\n",
            "\n"
          ]
        }
      ],
      "source": [
        "# Import necessary libraries\n",
        "import tensorflow as tf\n",
        "\n",
        "# Define the neural network model\n",
        "model = tf.keras.Sequential([\n",
        "    tf.keras.layers.Dense(64, activation='relu', input_shape=(X_train_selected.shape[1],)),\n",
        "    tf.keras.layers.Dropout(0.3),\n",
        "    tf.keras.layers.Dense(64, activation='relu'),\n",
        "    tf.keras.layers.Dropout(0.3),\n",
        "    tf.keras.layers.Dense(64, activation='relu'),\n",
        "    tf.keras.layers.Dropout(0.3),\n",
        "    tf.keras.layers.Dense(1, activation='sigmoid')\n",
        "])\n",
        "\n",
        "# Compile the model\n",
        "model.compile(optimizer='adam', loss='binary_crossentropy', metrics=['accuracy'])  # binary crossentropy for regression\n",
        "\n",
        "# Train the model\n",
        "model.fit(X_train_selected, Y_train_scaled, epochs=20, batch_size=32)\n",
        "\n",
        "# Evaluate the model\n",
        "Y_pred_NN = model.predict(X_test_selected)\n",
        "# Evaluate the model on the test set\n",
        "accuracy = model.evaluate(X_test_selected, Y_test)[1]\n",
        "print(f\"Test Accuracy: {accuracy}\")\n",
        "\n",
        "Y_pred_class = list(map(lambda x: 1 if x > 0.5 else 0, Y_pred_NN))\n",
        "print(\"\\nClassification Report:\")\n",
        "print(classification_report(Y_test, Y_pred_class))"
      ]
    }
  ],
  "metadata": {
    "kernelspec": {
      "display_name": "Python 3",
      "language": "python",
      "name": "python3"
    },
    "language_info": {
      "codemirror_mode": {
        "name": "ipython",
        "version": 3
      },
      "file_extension": ".py",
      "mimetype": "text/x-python",
      "name": "python",
      "nbconvert_exporter": "python",
      "pygments_lexer": "ipython3",
      "version": "3.8.5"
    },
    "colab": {
      "provenance": [],
      "include_colab_link": true
    }
  },
  "nbformat": 4,
  "nbformat_minor": 0
}